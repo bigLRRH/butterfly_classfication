{
 "cells": [
  {
   "cell_type": "markdown",
   "id": "b3288a47-412e-488a-94f9-7794ab040ed7",
   "metadata": {},
   "source": [
    "数据路径"
   ]
  },
  {
   "cell_type": "code",
   "execution_count": 2,
   "id": "40c10c5a-4dbf-41d3-9309-f4ac501d2678",
   "metadata": {
    "execution": {
     "iopub.execute_input": "2023-06-15T01:09:09.855791Z",
     "iopub.status.busy": "2023-06-15T01:09:09.855137Z",
     "iopub.status.idle": "2023-06-15T01:09:11.371238Z",
     "shell.execute_reply": "2023-06-15T01:09:11.369968Z",
     "shell.execute_reply.started": "2023-06-15T01:09:09.855755Z"
    },
    "scrolled": true
   },
   "outputs": [
    {
     "name": "stdout",
     "output_type": "stream",
     "text": [
      "飞桨框架内置模型： ['ResNet', 'resnet18', 'resnet34', 'resnet50', 'resnet101', 'resnet152', 'VGG', 'vgg11', 'vgg13', 'vgg16', 'vgg19', 'MobileNetV1', 'mobilenet_v1', 'MobileNetV2', 'mobilenet_v2', 'LeNet']\r\n"
     ]
    }
   ],
   "source": [
    "import paddle\n",
    "print('飞桨框架内置模型：', paddle.vision.models.__all__)"
   ]
  },
  {
   "cell_type": "code",
   "execution_count": null,
   "id": "a229dab4-cdfa-4719-8c0c-c807cb76ea0d",
   "metadata": {
    "scrolled": true
   },
   "outputs": [],
   "source": []
  }
 ],
 "metadata": {
  "kernelspec": {
   "display_name": "Python 3",
   "language": "python",
   "name": "py35-paddle1.2.0"
  },
  "language_info": {
   "codemirror_mode": {
    "name": "ipython",
    "version": 3
   },
   "file_extension": ".py",
   "mimetype": "text/x-python",
   "name": "python",
   "nbconvert_exporter": "python",
   "pygments_lexer": "ipython3",
   "version": "3.7.4"
  }
 },
 "nbformat": 4,
 "nbformat_minor": 5
}
