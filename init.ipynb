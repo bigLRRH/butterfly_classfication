{
 "cells": [
  {
   "cell_type": "code",
   "execution_count": 1,
   "id": "aa336097-7325-4935-b049-75b600de32b0",
   "metadata": {
    "execution": {
     "iopub.execute_input": "2023-06-17T04:52:42.288687Z",
     "iopub.status.busy": "2023-06-17T04:52:42.287410Z",
     "iopub.status.idle": "2023-06-17T04:52:45.447221Z",
     "shell.execute_reply": "2023-06-17T04:52:45.446025Z",
     "shell.execute_reply.started": "2023-06-17T04:52:42.288644Z"
    },
    "scrolled": true
   },
   "outputs": [
    {
     "name": "stdout",
     "output_type": "stream",
     "text": [
      "mkdir: 无法创建目录\"work/datas\": 文件已存在\r\n",
      "mkdir: 无法创建目录\"work/train\": 文件已存在\r\n",
      "mkdir: 无法创建目录\"work/datas/Butterfly20_test\": 文件已存在\r\n",
      "mkdir: 无法创建目录\"work/datas/Butterfly20\": 文件已存在\r\n"
     ]
    }
   ],
   "source": [
    "# 数据预处理\n",
    "!mkdir work/datas\n",
    "!mkdir work/train\n",
    "!mkdir work/datas/Butterfly20_test\n",
    "!mkdir work/datas/Butterfly20\n",
    "#解压文件夹\n",
    "!unzip -qo data/data126285/Butterfly20_test.zip -d work/datas/Butterfly20_test\n",
    "!unzip -qo data/data126285/Butterfly20.zip -d work/datas/Butterfly20"
   ]
  },
  {
   "cell_type": "code",
   "execution_count": 2,
   "id": "2030f1ff-8cde-43ec-b807-093b12c4735b",
   "metadata": {
    "execution": {
     "iopub.execute_input": "2023-06-17T04:52:45.449548Z",
     "iopub.status.busy": "2023-06-17T04:52:45.449006Z",
     "iopub.status.idle": "2023-06-17T04:52:45.481102Z",
     "shell.execute_reply": "2023-06-17T04:52:45.480301Z",
     "shell.execute_reply.started": "2023-06-17T04:52:45.449520Z"
    },
    "scrolled": true,
    "tags": []
   },
   "outputs": [
    {
     "name": "stdout",
     "output_type": "stream",
     "text": [
      "species_dict:\r\n",
      "{'001.Atrophaneura_horishanus': '1', '002.Atrophaneura_varuna': '2', '003.Byasa_alcinous': '3', '004.Byasa_dasarada': '4', '005.Byasa_polyeuctes': '5', '006.Graphium_agamemnon': '6', '007.Graphium_cloanthus': '7', '008.Graphium_sarpedon': '8', '009.Iphiclides_podalirius': '9', '010.Lamproptera_curius': '10', '011.Lamproptera_meges': '11', '012.Losaria_coon': '12', '013.Meandrusa_payeni': '13', '014.Meandrusa_sciron': '14', '015.Pachliopta_aristolochiae': '15', '016.Papilio_alcmenor': '16', '017.Papilio_arcturus': '17', '018.Papilio_bianor': '18', '019.Papilio_dialis': '19', '020.Papilio_hermosanus': '20'}\r\n",
      "\r\n",
      "genus_dict:\r\n",
      "{'Atrophaneura': '1', 'Byasa': '2', 'Graphium': '3', 'Iphiclides': '4', 'Lamproptera': '5', 'Losaria': '6', 'Meandrusa': '7', 'Pachliopta': '8', 'Papilio': '9'}\r\n",
      "\r\n",
      "class_list:\r\n",
      "dict_keys(['001.Atrophaneura_horishanus', '002.Atrophaneura_varuna', '003.Byasa_alcinous', '004.Byasa_dasarada', '005.Byasa_polyeuctes', '006.Graphium_agamemnon', '007.Graphium_cloanthus', '008.Graphium_sarpedon', '009.Iphiclides_podalirius', '010.Lamproptera_curius', '011.Lamproptera_meges', '012.Losaria_coon', '013.Meandrusa_payeni', '014.Meandrusa_sciron', '015.Pachliopta_aristolochiae', '016.Papilio_alcmenor', '017.Papilio_arcturus', '018.Papilio_bianor', '019.Papilio_dialis', '020.Papilio_hermosanus'])\r\n",
      "\r\n",
      "data_list\r\n",
      "[['work/datas/Butterfly20/Butterfly20/001.Atrophaneura_horishanus/049.jpg', '1', '1'], ['work/datas/Butterfly20/Butterfly20/001.Atrophaneura_horishanus/083.jpg', '1', '1'], ['work/datas/Butterfly20/Butterfly20/001.Atrophaneura_horishanus/019.jpg', '1', '1'], ['work/datas/Butterfly20/Butterfly20/001.Atrophaneura_horishanus/039.jpg', '1', '1'], ['work/datas/Butterfly20/Butterfly20/001.Atrophaneura_horishanus/096.jpg', '1', '1'], ['work/datas/Butterfly20/Butterfly20/001.Atrophaneura_horishanus/091.jpg', '1', '1'], ['work/datas/Butterfly20/Butterfly20/001.Atrophaneura_horishanus/014.jpg', '1', '1'], ['work/datas/Butterfly20/Butterfly20/001.Atrophaneura_horishanus/116.jpg', '1', '1'], ['work/datas/Butterfly20/Butterfly20/001.Atrophaneura_horishanus/042.jpg', '1', '1'], ['work/datas/Butterfly20/Butterfly20/001.Atrophaneura_horishanus/143.jpg', '1', '1'], ['work/datas/Butterfly20/Butterfly20/001.Atrophaneura_horishanus/098.jpg', '1', '1'], ['work/datas/Butterfly20/Butterfly20/001.Atrophaneura\r\n"
     ]
    }
   ],
   "source": [
    "import os\n",
    "import re\n",
    "train_path = 'work/datas/Butterfly20/Butterfly20'\n",
    "genus_path = 'work/datas/Butterfly20/genus.txt'\n",
    "spicies_path = 'work/datas/Butterfly20/species.txt'\n",
    "target_path = 'work/datas/Butterfly20/data_list.txt'\n",
    "#建立样本数据读取路径与样本标签之间的关系\n",
    "species_dict={}\n",
    "genus_dict={}\n",
    "#配置spices_dict\n",
    "with open(spicies_path) as f:\n",
    "    for line in f:\n",
    "        a,b = line.strip(\"\\n\").split(\" \")\n",
    "        species_dict[b]=a\n",
    "print('species_dict:')\n",
    "print(species_dict)\n",
    "print()\n",
    "#配置genus_dict\n",
    "with open(genus_path) as f:\n",
    "    for line in f:\n",
    "        a,b = line.strip(\"\\n\").split(\" \")\n",
    "        genus_dict[b]=a\n",
    "print('genus_dict:')\n",
    "print(genus_dict)\n",
    "print()\n",
    "#配置data_list\n",
    "data_list = []#数据格式[[path,genus_index,species_index][...]...]\n",
    "class_list = species_dict.keys()\n",
    "print('class_list:')\n",
    "print(class_list)\n",
    "print()\n",
    "for each in class_list:\n",
    "    genus_key = each.split('.')[1].split('_')[0]\n",
    "    for f in os.listdir(train_path+'/'+each):\n",
    "        data_list.append([train_path+'/'+each+'/'+f,genus_dict[genus_key],species_dict[each]]) \n",
    "print('data_list')\n",
    "print(data_list)"
   ]
  },
  {
   "cell_type": "code",
   "execution_count": 3,
   "id": "193f19b1-13d2-457b-a67d-e2557229dee2",
   "metadata": {
    "execution": {
     "iopub.execute_input": "2023-06-17T04:52:45.482768Z",
     "iopub.status.busy": "2023-06-17T04:52:45.482134Z",
     "iopub.status.idle": "2023-06-17T04:52:45.489369Z",
     "shell.execute_reply": "2023-06-17T04:52:45.488693Z",
     "shell.execute_reply.started": "2023-06-17T04:52:45.482740Z"
    },
    "scrolled": true,
    "tags": []
   },
   "outputs": [],
   "source": [
    "#将data_list写入target_path的txt中\n",
    "with open(target_path,'w') as f:\n",
    "    for line in data_list:\n",
    "        f.write(line[0]+' '+str(line[1])+' '+str(line[2])+'\\n')\n",
    "#"
   ]
  }
 ],
 "metadata": {
  "kernelspec": {
   "display_name": "Python 3",
   "language": "python",
   "name": "py35-paddle1.2.0"
  },
  "language_info": {
   "codemirror_mode": {
    "name": "ipython",
    "version": 3
   },
   "file_extension": ".py",
   "mimetype": "text/x-python",
   "name": "python",
   "nbconvert_exporter": "python",
   "pygments_lexer": "ipython3",
   "version": "3.7.4"
  }
 },
 "nbformat": 4,
 "nbformat_minor": 5
}
