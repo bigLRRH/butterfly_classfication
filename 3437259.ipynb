{
 "cells": [
  {
   "cell_type": "markdown",
   "id": "cc4cdfe1-aa1f-42fc-9915-5205e98ce961",
   "metadata": {},
   "source": [
    "# 赛题说明:\n",
    "\n",
    "近年来，随着人工智能的发展，其在语音识别、自然语言处理、图像与视频分析等诸多领域取得了巨大成功。如何将人工智能技术应用到更广泛的领域成为了重要目标，本次竞赛将聚焦蝴蝶图片的细粒度图像分类，利用人工智能技术，对蝴蝶的类别、属性进行识别分类，以便相关工作者快速识别蝴蝶种类，进行科学研究，提高效率和精度。"
   ]
  },
  {
   "cell_type": "markdown",
   "id": "44a17c3c-711d-404f-bd05-5cef0788e98d",
   "metadata": {},
   "source": [
    "# 任务描述:\n",
    "\n",
    "要求参赛者给出一个算法或模型，对于给定的图片，检测出图片中的蝴蝶类别和属。给定图片数据，选手据此训练模型，为每张测试数据预测出最正确的类别。\n",
    "\n"
   ]
  },
  {
   "cell_type": "markdown",
   "id": "4d607ab9-8857-4744-a3c2-87fbe1c96222",
   "metadata": {},
   "source": [
    "# 数据说明:\n",
    "\n",
    "本竞赛所用训练和测试图片均来自网络（和鲸社区）。总共有9个属，20个物种，文件genus.txt中描述了9个属名，species.txt描述了20个物种名。![](https://ai-studio-static-online.cdn.bcebos.com/ad23e5c86b5e486eab072486ee877946dd360e8cdd4a49e58050bf525a3bc9c6)\n",
    "![](https://ai-studio-static-online.cdn.bcebos.com/dad0b53c4df947dabc0319742a0ff76f8abbc8f67f504982bf9b7ec80afceada)\n"
   ]
  },
  {
   "cell_type": "markdown",
   "id": "d005b487-75b1-4335-839e-3f6e1c658153",
   "metadata": {},
   "source": [
    "数据文件包括训练集(有标注)和测试集(无标注)，训练集和验证集的所有图片分别保存在Butterfly20文件夹下面的20个文件夹中，文件名即属-物种标签，测试集共有200张待分类的蝴蝶图片在test文件夹下，名称为：图片ID.jpg。"
   ]
  },
  {
   "cell_type": "markdown",
   "id": "2cbf93c3-03bf-4d00-ae1c-25110de30cb9",
   "metadata": {},
   "source": [
    "# 评分标准:\n",
    "\n",
    "该任务为图片分类任务，选用准确率作为评分标准，计算公式为： Accuracy = 分类正确数量 / 需要分类总数量"
   ]
  },
  {
   "cell_type": "markdown",
   "id": "802b3f91-7740-4ac9-8c15-9d374ac7a37c",
   "metadata": {},
   "source": [
    "# 提交答案:\n",
    "\n",
    "本赛题任务是对蝴蝶图片进行物种分类，要求提交结果的格式如下：\n",
    "\n",
    "1.每个类别的行数和测试集原始数据行数应一一对应，不可乱序。  \n",
    "2.输出结果应检查是否为200行数据，否则成绩无效。  \n",
    "3.输出结果文件命名为model_result.txt，一行一个物种标签（物种标号 + . +属+ _ +物种名），样例如下：\n",
    "\n",
    "''''''\n",
    "\n",
    "006.Graphium_agamemnon  \n",
    "014.Meandrusa_sciron    \n",
    "012.Losaria_coon    \n",
    "006.Graphium_agamemnon  \n",
    "011.Lamproptera_meges   \n",
    "018.Papilio_bianor  \n",
    "014.Meandrusa_sciron    \n",
    "017.Papilio_arcturus    \n",
    "003.Byasa_alcinous  \n",
    "001.Atrophaneura_horishanus\n",
    "\n",
    "''''''"
   ]
  }
 ],
 "metadata": {
  "kernelspec": {
   "display_name": "Python 3",
   "language": "python",
   "name": "py35-paddle1.2.0"
  },
  "language_info": {
   "codemirror_mode": {
    "name": "ipython",
    "version": 3
   },
   "file_extension": ".py",
   "mimetype": "text/x-python",
   "name": "python",
   "nbconvert_exporter": "python",
   "pygments_lexer": "ipython3",
   "version": "3.7.4"
  }
 },
 "nbformat": 4,
 "nbformat_minor": 5
}
